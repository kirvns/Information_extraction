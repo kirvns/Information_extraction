{
  "nbformat": 4,
  "nbformat_minor": 0,
  "metadata": {
    "colab": {
      "provenance": [],
      "collapsed_sections": []
    },
    "kernelspec": {
      "name": "python3",
      "display_name": "Python 3"
    },
    "language_info": {
      "name": "python"
    }
  },
  "cells": [
    {
      "cell_type": "code",
      "source": [
        "!pip3 -qq install rusenttokenize\n",
        "!pip3 -qq install pymorphy2\n",
        "!pip3 -qq install nltk\n",
        "!pip3 -qq install natasha"
      ],
      "metadata": {
        "id": "gLGwtmsIEuLq"
      },
      "execution_count": null,
      "outputs": []
    },
    {
      "cell_type": "code",
      "execution_count": null,
      "metadata": {
        "id": "60WDqLZznXHg"
      },
      "outputs": [],
      "source": [
        "import pandas as pd\n",
        "import pymorphy2\n",
        "import string\n",
        "import nltk\n",
        "import re\n",
        "from rusenttokenize import ru_sent_tokenize\n",
        "from sklearn.feature_extraction.text import CountVectorizer\n",
        "from sklearn.metrics.pairwise import cosine_similarity\n",
        "from nltk import word_tokenize\n",
        "nltk.download('punkt')\n",
        "from natasha import (\n",
        "    Segmenter,\n",
        "    MorphVocab,\n",
        "    \n",
        "    NewsEmbedding,\n",
        "    NewsMorphTagger,\n",
        "    NewsSyntaxParser,\n",
        "    NewsNERTagger,\n",
        "    \n",
        "    PER,\n",
        "    NamesExtractor,\n",
        "\n",
        "    Doc\n",
        ")"
      ]
    },
    {
      "cell_type": "markdown",
      "source": [
        "greeting, goodbye with cosine similarity"
      ],
      "metadata": {
        "id": "JuX6GrmwNRXm"
      }
    },
    {
      "cell_type": "code",
      "source": [
        "test_data = pd.read_csv(\"test_data.csv\", encoding=\"utf-8\")"
      ],
      "metadata": {
        "id": "LSAjYP0knvkN"
      },
      "execution_count": 5,
      "outputs": []
    },
    {
      "cell_type": "code",
      "source": [
        "all_txt_list = test_data['text'].tolist()"
      ],
      "metadata": {
        "id": "aivkSqj6HaRO"
      },
      "execution_count": 6,
      "outputs": []
    },
    {
      "cell_type": "code",
      "source": [
        "dlg_dict_mg = {}\n",
        "for i in range(0,6):\n",
        "  dlg_dict_mg['dlg'+str(i)+'_mg'] = (test_data.loc[(test_data[\"dlg_id\"] == i)&(test_data[\"role\"] == 'manager')])['text'].tolist()\n",
        "\n",
        "dlg_dict_all = {}\n",
        "for i in range(0,6):\n",
        "  dlg_dict_all['dlg'+str(i)+'_all'] = (test_data.loc[test_data[\"dlg_id\"] == i])['text'].tolist()  "
      ],
      "metadata": {
        "id": "LN4GpmW_-a4W"
      },
      "execution_count": 7,
      "outputs": []
    },
    {
      "cell_type": "code",
      "source": [
        "morph_analyzer = pymorphy2.MorphAnalyzer()"
      ],
      "metadata": {
        "id": "gbVDTUKKHKhD"
      },
      "execution_count": 8,
      "outputs": []
    },
    {
      "cell_type": "code",
      "source": [
        "def preprocess_tokenize(text):\n",
        "    text_preprocessed_tokenized = []      \n",
        "    for sentence in ru_sent_tokenize(text):    \n",
        "        clean_words = [word.strip(string.punctuation) for word in word_tokenize(text)] \n",
        "        clean_words = [word.lower() for word in clean_words]\n",
        "        clean_lemmas = [morph_analyzer.parse(word)[0].normal_form for word in clean_words]\n",
        "        text_preprocessed_tokenized.extend(clean_lemmas)\n",
        "    return text_preprocessed_tokenized"
      ],
      "metadata": {
        "id": "Y84MD4eEzKDW"
      },
      "execution_count": 9,
      "outputs": []
    },
    {
      "cell_type": "code",
      "source": [
        "intents = {\"greeting\": [\"Привет\", \"Здравствуйте\", \"Добрый день\", \"Добрый вечер\", \"Здрасьте\", \"Здорова\", \"Добрый денёк\", \"День добрый\", \"Рад видеть\", \"Доброе утро\", \"Здравствуй\", \"Доброго времени\", \"Здравия желаю\", \"Салам\", \"Салют\", \"Бонжур\", \"Хелло\", \"Приветствую\", \"Добро пожаловать\", \"Доброго здоровья\"], \"goodbye\": [\"Пока\", \"До свидания\", \"Счастливо\", \"Всего доброго\", \"Всего хорошего\", \"До скорого\", \"Увидимся\", \"Спокойной ночи\", \"До встречи\", \"Свяжемся позже\", \"Прощай\", \"Встретимся\", \"До свиданья\", \"Удачи\", \"Всего наилучшего\", \"До связи\", \"Честь имею\", \"Разрешите откланяться\", \"Береги себя\", \"Хорошего дня\", \"Хорошего вечера\", \"Поговорим завтра\"]}"
      ],
      "metadata": {
        "id": "o51watPskOAB"
      },
      "execution_count": 10,
      "outputs": []
    },
    {
      "cell_type": "code",
      "source": [
        "train_phrases = []\n",
        "for dialogue in dlg_dict_mg:\n",
        "  for phrase in dlg_dict_mg[dialogue]:\n",
        "      train_phrases.append(phrase)\n",
        "\n",
        "for intent in intents:\n",
        "  for phrase in intents[intent]:\n",
        "      train_phrases.append(phrase)"
      ],
      "metadata": {
        "id": "EGkjwu5moUlX"
      },
      "execution_count": 11,
      "outputs": []
    },
    {
      "cell_type": "code",
      "source": [
        "vectorizer = CountVectorizer(tokenizer=preprocess_tokenize, ngram_range=(1,2))\n",
        "vectorizer.fit_transform(train_phrases).toarray()"
      ],
      "metadata": {
        "id": "FE1nPe9OOcYJ"
      },
      "execution_count": null,
      "outputs": []
    },
    {
      "cell_type": "code",
      "source": [
        "greetings, goodbyes = [],[]\n",
        "for dialogue in dlg_dict_mg:\n",
        "  for phrase in dlg_dict_mg[dialogue]:\n",
        "      vec1 = vectorizer.transform([phrase])\n",
        "      for intent in intents:\n",
        "        for sentence in intents[intent]:\n",
        "          vec2 = vectorizer.transform([sentence])\n",
        "          similarity = cosine_similarity(vec1, vec2)\n",
        "          if similarity > 0.3 and intent == 'greeting':\n",
        "            if phrase not in greetings: \n",
        "              greetings.append(phrase)\n",
        "          if similarity > 0.3 and intent == 'goodbye':\n",
        "            if phrase not in goodbyes:\n",
        "              goodbyes.append(phrase)"
      ],
      "metadata": {
        "id": "GFlj1BD99vgw"
      },
      "execution_count": 13,
      "outputs": []
    },
    {
      "cell_type": "code",
      "source": [
        "ethics_check = []\n",
        "for text in all_txt_list:\n",
        "  ethics = ''\n",
        "  for sample in greetings:\n",
        "    if sample == text:\n",
        "      ethics = ethics+('greeting=True')\n",
        "  for sample in goodbyes:\n",
        "    if sample == text:\n",
        "      ethics = ethics+('goodbye=True')\n",
        "  ethics_check.append(ethics)    "
      ],
      "metadata": {
        "id": "x-eFGqKnrEEr"
      },
      "execution_count": 14,
      "outputs": []
    },
    {
      "cell_type": "code",
      "source": [
        "#unique values\n",
        "greetings, goodbyes"
      ],
      "metadata": {
        "colab": {
          "base_uri": "https://localhost:8080/"
        },
        "id": "BGoIpiuKa8_q",
        "outputId": "77a63c33-018b-4e7a-fbae-794fa906eef0"
      },
      "execution_count": 53,
      "outputs": [
        {
          "output_type": "execute_result",
          "data": {
            "text/plain": [
              "(['Алло здравствуйте', 'Алло дмитрий добрый день'],\n",
              " ['Всего хорошего до свидания',\n",
              "  'Угу да вижу я эту почту хорошо тогда исправлю на эту будем ждать ответа всего хорошего',\n",
              "  'До свидания',\n",
              "  'Угу все хорошо да понедельника тогда всего доброго',\n",
              "  'Во вторник все ну с вами да тогда до вторника до свидания',\n",
              "  'Ну до свидания хорошего вечера'])"
            ]
          },
          "metadata": {},
          "execution_count": 53
        }
      ]
    },
    {
      "cell_type": "code",
      "source": [
        "test_data['ethics'] = ethics_check"
      ],
      "metadata": {
        "id": "frRzzzOV5ygR"
      },
      "execution_count": 15,
      "outputs": []
    },
    {
      "cell_type": "markdown",
      "source": [
        "greeting, goodbye with re"
      ],
      "metadata": {
        "id": "Nmu0od81Nrr2"
      }
    },
    {
      "cell_type": "code",
      "source": [
        "re_greetings, re_goodbyes = [],[]\n",
        "for dialogue in dlg_dict_mg:\n",
        "  for phrase in dlg_dict_mg[dialogue]:\n",
        "    if re.findall(r'(.*дравств.*|.*ривет.*|.*обр.*день.*|.*обр.*вечер.*|.*обр.*вечер.*|.*обро.*пожалов.*)', phrase) != []:\n",
        "      re_greetings.append(phrase)\n",
        "\n",
        "for dialogue in dlg_dict_mg:\n",
        "  for phrase in dlg_dict_mg[dialogue]:\n",
        "    if re.findall(r'(.*свидания.*|.*пока.*|.*Пока*|.*сего.*доброго.*|.*сего.*хорошего.*|.*орошег.*дня.*|.*орошег.*вечер.*)', phrase) != []:\n",
        "      re_goodbyes.append(phrase)       "
      ],
      "metadata": {
        "id": "KXC38HupU1m_"
      },
      "execution_count": 49,
      "outputs": []
    },
    {
      "cell_type": "code",
      "source": [
        "re_greetings"
      ],
      "metadata": {
        "colab": {
          "base_uri": "https://localhost:8080/"
        },
        "id": "94VZWlIqZRwG",
        "outputId": "bd7b8654-c53c-4961-917d-afc28084a3b0"
      },
      "execution_count": 43,
      "outputs": [
        {
          "output_type": "execute_result",
          "data": {
            "text/plain": [
              "['Алло здравствуйте',\n",
              " 'Алло здравствуйте',\n",
              " 'Алло здравствуйте',\n",
              " 'Алло дмитрий добрый день']"
            ]
          },
          "metadata": {},
          "execution_count": 43
        }
      ]
    },
    {
      "cell_type": "code",
      "source": [
        "re_goodbyes"
      ],
      "metadata": {
        "colab": {
          "base_uri": "https://localhost:8080/"
        },
        "id": "L_p3uDDKaHRI",
        "outputId": "c7a3f3a9-9417-40f1-9aef-8eae56011e87"
      },
      "execution_count": 50,
      "outputs": [
        {
          "output_type": "execute_result",
          "data": {
            "text/plain": [
              "['Всего хорошего до свидания',\n",
              " 'Угу да вижу я эту почту хорошо тогда исправлю на эту будем ждать ответа всего хорошего',\n",
              " 'До свидания',\n",
              " 'Угу все хорошо да понедельника тогда всего доброго',\n",
              " 'Во вторник все ну с вами да тогда до вторника до свидания',\n",
              " 'Ну до свидания хорошего вечера']"
            ]
          },
          "metadata": {},
          "execution_count": 50
        }
      ]
    },
    {
      "cell_type": "markdown",
      "source": [
        "NER"
      ],
      "metadata": {
        "id": "r2zLhAWl2QMc"
      }
    },
    {
      "cell_type": "code",
      "source": [
        "segmenter = Segmenter()\n",
        "morph_vocab = MorphVocab()\n",
        "emb = NewsEmbedding()\n",
        "morph_tagger = NewsMorphTagger(emb)\n",
        "syntax_parser = NewsSyntaxParser(emb)\n",
        "ner_tagger = NewsNERTagger(emb)\n",
        "names_extractor = NamesExtractor(morph_vocab)"
      ],
      "metadata": {
        "id": "CmLIzwJe2PSs"
      },
      "execution_count": 16,
      "outputs": []
    },
    {
      "cell_type": "code",
      "source": [
        "def proper_names(text):\n",
        "    propered_names = []      \n",
        "    for sentence in text:    \n",
        "      sentence_tokenized = word_tokenize(sentence)\n",
        "      for word in sentence_tokenized:\n",
        "        if morph_analyzer.parse(word)[0].score < 0.1 and 'INTJ' not in morph_analyzer.parse(word)[0].tag and len(word) > 3:\n",
        "          propered_names.append(word)\n",
        "        elif 'Name' in morph_analyzer.parse(word)[0].tag and len(word) > 3:\n",
        "          propered_names.append(word)\n",
        "    return propered_names      "
      ],
      "metadata": {
        "id": "_sM80x1WEvr2"
      },
      "execution_count": 17,
      "outputs": []
    },
    {
      "cell_type": "code",
      "source": [
        "pr_names = proper_names(all_txt_list)\n",
        "all_txt_propered = []\n",
        "for sentence in all_txt_list:\n",
        "  sentence = sentence.lower()\n",
        "  for word in pr_names:\n",
        "    if word in sentence:\n",
        "      sentence = sentence.replace(word, word.capitalize())\n",
        "  all_txt_propered.append(sentence)"
      ],
      "metadata": {
        "id": "3sz8g7voR-V4"
      },
      "execution_count": 18,
      "outputs": []
    },
    {
      "cell_type": "code",
      "source": [
        "ner_name = []\n",
        "for text in all_txt_propered:\n",
        "  text_span = ''\n",
        "  doc = Doc(text)\n",
        "  doc.segment(segmenter)\n",
        "  doc.tag_morph(morph_tagger)\n",
        "  doc.parse_syntax(syntax_parser)\n",
        "  doc.tag_ner(ner_tagger)\n",
        "  if doc.spans:\n",
        "    for span in doc.spans:\n",
        "      if span.type == 'PER' and ('компания '+span.text) not in text and ('зовут '+span.text) not in text and (span.text+'зовут ') not in text and ('это '+span.text) not in text:\n",
        "        text_span = text_span+('person='+span.text+' ')\n",
        "      if span.type == 'PER' and ('компания '+span.text) not in text and (('зовут '+span.text) in text or (span.text+'зовут ') in text or ('это '+span.text) in text):\n",
        "        text_span = text_span+('self_name='+span.text+' ')\n",
        "    ner_name.append(text_span)\n",
        "  else:\n",
        "    ner_name.append('')       "
      ],
      "metadata": {
        "id": "bR4WTR4hayfN"
      },
      "execution_count": 19,
      "outputs": []
    },
    {
      "cell_type": "code",
      "source": [
        "test_data['ner_name'] = ner_name"
      ],
      "metadata": {
        "id": "dQyAQ2bL5icJ"
      },
      "execution_count": 20,
      "outputs": []
    },
    {
      "cell_type": "code",
      "source": [
        "ner_org = []\n",
        "for text in all_txt_propered:\n",
        "  text_span = ''\n",
        "  doc = Doc(text)\n",
        "  doc.segment(segmenter)\n",
        "  doc.tag_morph(morph_tagger)\n",
        "  doc.parse_syntax(syntax_parser)\n",
        "  doc.tag_ner(ner_tagger)\n",
        "  if doc.spans:\n",
        "    for span in doc.spans:\n",
        "      if span.type == 'PER' and ('компания '+span.text) in text:\n",
        "        text_span = text_span+('organization='+span.text+' ')\n",
        "      if span.type == 'ORG':\n",
        "        text_span = text_span+('organization='+span.text+' ')\n",
        "    ner_org.append(text_span)\n",
        "  else:\n",
        "    ner_org.append('')"
      ],
      "metadata": {
        "id": "ZXLxQDeV3E3p"
      },
      "execution_count": 21,
      "outputs": []
    },
    {
      "cell_type": "code",
      "source": [
        "test_data['ner_org'] = ner_org"
      ],
      "metadata": {
        "id": "30xca0u95al4"
      },
      "execution_count": 22,
      "outputs": []
    },
    {
      "cell_type": "code",
      "source": [
        "test_data"
      ],
      "metadata": {
        "colab": {
          "base_uri": "https://localhost:8080/",
          "height": 424
        },
        "id": "c9cccV8MK82w",
        "outputId": "73eb4042-5552-4d15-db31-87f26cb7a6bb"
      },
      "execution_count": 23,
      "outputs": [
        {
          "output_type": "execute_result",
          "data": {
            "text/plain": [
              "     dlg_id  line_n     role  \\\n",
              "0         0       0   client   \n",
              "1         0       1  manager   \n",
              "2         0       2   client   \n",
              "3         0       3  manager   \n",
              "4         0       4   client   \n",
              "..      ...     ...      ...   \n",
              "475       5     138  manager   \n",
              "476       5     139  manager   \n",
              "477       5     140   client   \n",
              "478       5     141   client   \n",
              "479       5     142  manager   \n",
              "\n",
              "                                                  text         ethics  \\\n",
              "0                                                 Алло                  \n",
              "1                                    Алло здравствуйте  greeting=True   \n",
              "2                                          Добрый день                  \n",
              "3    Меня зовут ангелина компания диджитал бизнес з...                  \n",
              "4                                                  Ага                  \n",
              "..                                                 ...            ...   \n",
              "475  По поводу виджетов и с ними уже обсудите конкр...                  \n",
              "476  Все я вам высылаю счет и с вами на связи если ...                  \n",
              "477                                    Спасибо спасибо                  \n",
              "478     Да да тогда созвонимся ага спасибо вам давайте                  \n",
              "479                     Ну до свидания хорошего вечера   goodbye=True   \n",
              "\n",
              "                ner_name                 ner_org  \n",
              "0                                                 \n",
              "1                                                 \n",
              "2                                                 \n",
              "3    self_name=Ангелина   organization=Диджитал   \n",
              "4                                                 \n",
              "..                   ...                     ...  \n",
              "475                                               \n",
              "476                                               \n",
              "477                                               \n",
              "478                                               \n",
              "479                                               \n",
              "\n",
              "[480 rows x 7 columns]"
            ],
            "text/html": [
              "\n",
              "  <div id=\"df-58beca83-9e45-4d97-8dc4-3eaf50d1ffb5\">\n",
              "    <div class=\"colab-df-container\">\n",
              "      <div>\n",
              "<style scoped>\n",
              "    .dataframe tbody tr th:only-of-type {\n",
              "        vertical-align: middle;\n",
              "    }\n",
              "\n",
              "    .dataframe tbody tr th {\n",
              "        vertical-align: top;\n",
              "    }\n",
              "\n",
              "    .dataframe thead th {\n",
              "        text-align: right;\n",
              "    }\n",
              "</style>\n",
              "<table border=\"1\" class=\"dataframe\">\n",
              "  <thead>\n",
              "    <tr style=\"text-align: right;\">\n",
              "      <th></th>\n",
              "      <th>dlg_id</th>\n",
              "      <th>line_n</th>\n",
              "      <th>role</th>\n",
              "      <th>text</th>\n",
              "      <th>ethics</th>\n",
              "      <th>ner_name</th>\n",
              "      <th>ner_org</th>\n",
              "    </tr>\n",
              "  </thead>\n",
              "  <tbody>\n",
              "    <tr>\n",
              "      <th>0</th>\n",
              "      <td>0</td>\n",
              "      <td>0</td>\n",
              "      <td>client</td>\n",
              "      <td>Алло</td>\n",
              "      <td></td>\n",
              "      <td></td>\n",
              "      <td></td>\n",
              "    </tr>\n",
              "    <tr>\n",
              "      <th>1</th>\n",
              "      <td>0</td>\n",
              "      <td>1</td>\n",
              "      <td>manager</td>\n",
              "      <td>Алло здравствуйте</td>\n",
              "      <td>greeting=True</td>\n",
              "      <td></td>\n",
              "      <td></td>\n",
              "    </tr>\n",
              "    <tr>\n",
              "      <th>2</th>\n",
              "      <td>0</td>\n",
              "      <td>2</td>\n",
              "      <td>client</td>\n",
              "      <td>Добрый день</td>\n",
              "      <td></td>\n",
              "      <td></td>\n",
              "      <td></td>\n",
              "    </tr>\n",
              "    <tr>\n",
              "      <th>3</th>\n",
              "      <td>0</td>\n",
              "      <td>3</td>\n",
              "      <td>manager</td>\n",
              "      <td>Меня зовут ангелина компания диджитал бизнес з...</td>\n",
              "      <td></td>\n",
              "      <td>self_name=Ангелина</td>\n",
              "      <td>organization=Диджитал</td>\n",
              "    </tr>\n",
              "    <tr>\n",
              "      <th>4</th>\n",
              "      <td>0</td>\n",
              "      <td>4</td>\n",
              "      <td>client</td>\n",
              "      <td>Ага</td>\n",
              "      <td></td>\n",
              "      <td></td>\n",
              "      <td></td>\n",
              "    </tr>\n",
              "    <tr>\n",
              "      <th>...</th>\n",
              "      <td>...</td>\n",
              "      <td>...</td>\n",
              "      <td>...</td>\n",
              "      <td>...</td>\n",
              "      <td>...</td>\n",
              "      <td>...</td>\n",
              "      <td>...</td>\n",
              "    </tr>\n",
              "    <tr>\n",
              "      <th>475</th>\n",
              "      <td>5</td>\n",
              "      <td>138</td>\n",
              "      <td>manager</td>\n",
              "      <td>По поводу виджетов и с ними уже обсудите конкр...</td>\n",
              "      <td></td>\n",
              "      <td></td>\n",
              "      <td></td>\n",
              "    </tr>\n",
              "    <tr>\n",
              "      <th>476</th>\n",
              "      <td>5</td>\n",
              "      <td>139</td>\n",
              "      <td>manager</td>\n",
              "      <td>Все я вам высылаю счет и с вами на связи если ...</td>\n",
              "      <td></td>\n",
              "      <td></td>\n",
              "      <td></td>\n",
              "    </tr>\n",
              "    <tr>\n",
              "      <th>477</th>\n",
              "      <td>5</td>\n",
              "      <td>140</td>\n",
              "      <td>client</td>\n",
              "      <td>Спасибо спасибо</td>\n",
              "      <td></td>\n",
              "      <td></td>\n",
              "      <td></td>\n",
              "    </tr>\n",
              "    <tr>\n",
              "      <th>478</th>\n",
              "      <td>5</td>\n",
              "      <td>141</td>\n",
              "      <td>client</td>\n",
              "      <td>Да да тогда созвонимся ага спасибо вам давайте</td>\n",
              "      <td></td>\n",
              "      <td></td>\n",
              "      <td></td>\n",
              "    </tr>\n",
              "    <tr>\n",
              "      <th>479</th>\n",
              "      <td>5</td>\n",
              "      <td>142</td>\n",
              "      <td>manager</td>\n",
              "      <td>Ну до свидания хорошего вечера</td>\n",
              "      <td>goodbye=True</td>\n",
              "      <td></td>\n",
              "      <td></td>\n",
              "    </tr>\n",
              "  </tbody>\n",
              "</table>\n",
              "<p>480 rows × 7 columns</p>\n",
              "</div>\n",
              "      <button class=\"colab-df-convert\" onclick=\"convertToInteractive('df-58beca83-9e45-4d97-8dc4-3eaf50d1ffb5')\"\n",
              "              title=\"Convert this dataframe to an interactive table.\"\n",
              "              style=\"display:none;\">\n",
              "        \n",
              "  <svg xmlns=\"http://www.w3.org/2000/svg\" height=\"24px\"viewBox=\"0 0 24 24\"\n",
              "       width=\"24px\">\n",
              "    <path d=\"M0 0h24v24H0V0z\" fill=\"none\"/>\n",
              "    <path d=\"M18.56 5.44l.94 2.06.94-2.06 2.06-.94-2.06-.94-.94-2.06-.94 2.06-2.06.94zm-11 1L8.5 8.5l.94-2.06 2.06-.94-2.06-.94L8.5 2.5l-.94 2.06-2.06.94zm10 10l.94 2.06.94-2.06 2.06-.94-2.06-.94-.94-2.06-.94 2.06-2.06.94z\"/><path d=\"M17.41 7.96l-1.37-1.37c-.4-.4-.92-.59-1.43-.59-.52 0-1.04.2-1.43.59L10.3 9.45l-7.72 7.72c-.78.78-.78 2.05 0 2.83L4 21.41c.39.39.9.59 1.41.59.51 0 1.02-.2 1.41-.59l7.78-7.78 2.81-2.81c.8-.78.8-2.07 0-2.86zM5.41 20L4 18.59l7.72-7.72 1.47 1.35L5.41 20z\"/>\n",
              "  </svg>\n",
              "      </button>\n",
              "      \n",
              "  <style>\n",
              "    .colab-df-container {\n",
              "      display:flex;\n",
              "      flex-wrap:wrap;\n",
              "      gap: 12px;\n",
              "    }\n",
              "\n",
              "    .colab-df-convert {\n",
              "      background-color: #E8F0FE;\n",
              "      border: none;\n",
              "      border-radius: 50%;\n",
              "      cursor: pointer;\n",
              "      display: none;\n",
              "      fill: #1967D2;\n",
              "      height: 32px;\n",
              "      padding: 0 0 0 0;\n",
              "      width: 32px;\n",
              "    }\n",
              "\n",
              "    .colab-df-convert:hover {\n",
              "      background-color: #E2EBFA;\n",
              "      box-shadow: 0px 1px 2px rgba(60, 64, 67, 0.3), 0px 1px 3px 1px rgba(60, 64, 67, 0.15);\n",
              "      fill: #174EA6;\n",
              "    }\n",
              "\n",
              "    [theme=dark] .colab-df-convert {\n",
              "      background-color: #3B4455;\n",
              "      fill: #D2E3FC;\n",
              "    }\n",
              "\n",
              "    [theme=dark] .colab-df-convert:hover {\n",
              "      background-color: #434B5C;\n",
              "      box-shadow: 0px 1px 3px 1px rgba(0, 0, 0, 0.15);\n",
              "      filter: drop-shadow(0px 1px 2px rgba(0, 0, 0, 0.3));\n",
              "      fill: #FFFFFF;\n",
              "    }\n",
              "  </style>\n",
              "\n",
              "      <script>\n",
              "        const buttonEl =\n",
              "          document.querySelector('#df-58beca83-9e45-4d97-8dc4-3eaf50d1ffb5 button.colab-df-convert');\n",
              "        buttonEl.style.display =\n",
              "          google.colab.kernel.accessAllowed ? 'block' : 'none';\n",
              "\n",
              "        async function convertToInteractive(key) {\n",
              "          const element = document.querySelector('#df-58beca83-9e45-4d97-8dc4-3eaf50d1ffb5');\n",
              "          const dataTable =\n",
              "            await google.colab.kernel.invokeFunction('convertToInteractive',\n",
              "                                                     [key], {});\n",
              "          if (!dataTable) return;\n",
              "\n",
              "          const docLinkHtml = 'Like what you see? Visit the ' +\n",
              "            '<a target=\"_blank\" href=https://colab.research.google.com/notebooks/data_table.ipynb>data table notebook</a>'\n",
              "            + ' to learn more about interactive tables.';\n",
              "          element.innerHTML = '';\n",
              "          dataTable['output_type'] = 'display_data';\n",
              "          await google.colab.output.renderOutput(dataTable, element);\n",
              "          const docLink = document.createElement('div');\n",
              "          docLink.innerHTML = docLinkHtml;\n",
              "          element.appendChild(docLink);\n",
              "        }\n",
              "      </script>\n",
              "    </div>\n",
              "  </div>\n",
              "  "
            ]
          },
          "metadata": {},
          "execution_count": 23
        }
      ]
    },
    {
      "cell_type": "code",
      "source": [
        "annotated_data = test_data.to_csv('annotated_data.csv', index=False) "
      ],
      "metadata": {
        "id": "Lm3iZIjMJ5eU"
      },
      "execution_count": 27,
      "outputs": []
    },
    {
      "cell_type": "markdown",
      "source": [
        "greeting"
      ],
      "metadata": {
        "id": "erkC5c6cy3Nu"
      }
    },
    {
      "cell_type": "code",
      "source": [
        "test_data.loc[(test_data['role'] == 'manager')&(test_data['ethics'] == 'greeting=True')]['text'].tolist()"
      ],
      "metadata": {
        "colab": {
          "base_uri": "https://localhost:8080/"
        },
        "id": "nnogWYa1zNpk",
        "outputId": "45957f81-e8d0-4ed7-a415-b3f758a3a714"
      },
      "execution_count": 24,
      "outputs": [
        {
          "output_type": "execute_result",
          "data": {
            "text/plain": [
              "['Алло здравствуйте',\n",
              " 'Алло здравствуйте',\n",
              " 'Алло здравствуйте',\n",
              " 'Алло дмитрий добрый день']"
            ]
          },
          "metadata": {},
          "execution_count": 24
        }
      ]
    },
    {
      "cell_type": "markdown",
      "source": [
        "goodbye"
      ],
      "metadata": {
        "id": "ZXBixLi20z37"
      }
    },
    {
      "cell_type": "code",
      "source": [
        "test_data.loc[(test_data['role'] == 'manager')&(test_data['ethics'] == 'goodbye=True')]['text'].tolist()"
      ],
      "metadata": {
        "colab": {
          "base_uri": "https://localhost:8080/"
        },
        "id": "v_Kpl3NK0tPC",
        "outputId": "148063d9-2cae-4d15-a8ef-72a73121fa55"
      },
      "execution_count": 25,
      "outputs": [
        {
          "output_type": "execute_result",
          "data": {
            "text/plain": [
              "['Всего хорошего до свидания',\n",
              " 'Угу да вижу я эту почту хорошо тогда исправлю на эту будем ждать ответа всего хорошего',\n",
              " 'До свидания',\n",
              " 'Угу все хорошо да понедельника тогда всего доброго',\n",
              " 'Во вторник все ну с вами да тогда до вторника до свидания',\n",
              " 'Ну до свидания хорошего вечера']"
            ]
          },
          "metadata": {},
          "execution_count": 25
        }
      ]
    },
    {
      "cell_type": "markdown",
      "source": [
        "names"
      ],
      "metadata": {
        "id": "e9vaI_5Q0jB1"
      }
    },
    {
      "cell_type": "code",
      "source": [
        "test_data.loc[(test_data['role'] == 'manager')&(test_data['ner_name'] != '')]['ner_name'].tolist()"
      ],
      "metadata": {
        "colab": {
          "base_uri": "https://localhost:8080/"
        },
        "id": "5iGVLIrq0ocv",
        "outputId": "9db66bb8-32aa-4ab1-ea43-6abef31cad21"
      },
      "execution_count": 26,
      "outputs": [
        {
          "output_type": "execute_result",
          "data": {
            "text/plain": [
              "['self_name=Ангелина ',\n",
              " 'self_name=Ангелина ',\n",
              " 'self_name=Ангелина ',\n",
              " 'person=Дмитрий ',\n",
              " 'person=Максим ',\n",
              " 'person=Дмитрий person=Анастасия ',\n",
              " 'person=Айдар ',\n",
              " 'self_name=Анастасия ',\n",
              " 'person=Вячеслав ',\n",
              " 'person=Максим ',\n",
              " 'person=Дмитрий ']"
            ]
          },
          "metadata": {},
          "execution_count": 26
        }
      ]
    },
    {
      "cell_type": "markdown",
      "source": [
        "organizations"
      ],
      "metadata": {
        "id": "iRVAzcLbEoPW"
      }
    },
    {
      "cell_type": "code",
      "source": [
        "test_data.loc[test_data['ner_org'] != '']['ner_org'].tolist()"
      ],
      "metadata": {
        "colab": {
          "base_uri": "https://localhost:8080/"
        },
        "id": "iLi6c_qSEv3P",
        "outputId": "a60b4023-2da6-48bd-f0e2-aad4ebe11f8f"
      },
      "execution_count": 198,
      "outputs": [
        {
          "output_type": "execute_result",
          "data": {
            "text/plain": [
              "['organization=Диджитал ',\n",
              " 'organization=Диджитал ',\n",
              " 'organization=Диджитал ',\n",
              " 'organization=Диджитал бизнес ']"
            ]
          },
          "metadata": {},
          "execution_count": 198
        }
      ]
    },
    {
      "cell_type": "markdown",
      "source": [
        "checking the condition"
      ],
      "metadata": {
        "id": "tpDuTvC9Mggb"
      }
    },
    {
      "cell_type": "code",
      "source": [
        "for dialogue in range(0,6):\n",
        "  if test_data.loc[(test_data[\"dlg_id\"] == dialogue)&(test_data['ethics'] == 'greeting=True')]['text'].tolist() != []:\n",
        "    if test_data.loc[(test_data[\"dlg_id\"] == dialogue)&(test_data['ethics'] == 'goodbye=True')]['text'].tolist() != []:\n",
        "      print('Требование о приветствии и прощании в диалоге '+ str(dialogue) + ' соблюдено')\n",
        "    else:\n",
        "      print('Требование о приветствии и прощании в диалоге '+ str(dialogue) + ' не соблюдено')  \n",
        "  else:\n",
        "    print('Требование о приветствии и прощании в диалоге '+ str(dialogue) + ' не соблюдено')     "
      ],
      "metadata": {
        "colab": {
          "base_uri": "https://localhost:8080/"
        },
        "id": "pcafX1YrDKdc",
        "outputId": "be5614a9-1ed1-4d6d-91dd-ddbb86827d49"
      },
      "execution_count": 221,
      "outputs": [
        {
          "output_type": "stream",
          "name": "stdout",
          "text": [
            "Требование о приветствии и прощании в диалоге 0 соблюдено\n",
            "Требование о приветствии и прощании в диалоге 1 соблюдено\n",
            "Требование о приветствии и прощании в диалоге 2 не соблюдено\n",
            "Требование о приветствии и прощании в диалоге 3 соблюдено\n",
            "Требование о приветствии и прощании в диалоге 4 не соблюдено\n",
            "Требование о приветствии и прощании в диалоге 5 не соблюдено\n"
          ]
        }
      ]
    }
  ]
}